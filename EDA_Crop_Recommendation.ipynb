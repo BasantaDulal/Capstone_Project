{
 "cells": [
  {
   "cell_type": "markdown",
   "id": "5b8b71c7",
   "metadata": {},
   "source": [
    "## EDA: Exploratory Data Analysis"
   ]
  },
  {
   "cell_type": "code",
   "execution_count": 1,
   "id": "3c72a4fc",
   "metadata": {},
   "outputs": [
    {
     "name": "stderr",
     "output_type": "stream",
     "text": [
      "C:\\Users\\proud\\anaconda3\\lib\\site-packages\\tqdm\\auto.py:22: TqdmWarning: IProgress not found. Please update jupyter and ipywidgets. See https://ipywidgets.readthedocs.io/en/stable/user_install.html\n",
      "  from .autonotebook import tqdm as notebook_tqdm\n"
     ]
    }
   ],
   "source": [
    "# import libraries\n",
    "import sweetviz as sv\n",
    "import pandas as pd\n",
    "import matplotlib.pyplot as plt"
   ]
  },
  {
   "cell_type": "code",
   "execution_count": 2,
   "id": "0d11afd1",
   "metadata": {},
   "outputs": [],
   "source": [
    "# Load Dataset\n",
    "crop_df = pd.read_csv('./Crop_recommendation.csv')"
   ]
  },
  {
   "cell_type": "code",
   "execution_count": 3,
   "id": "b9456440",
   "metadata": {},
   "outputs": [
    {
     "name": "stdout",
     "output_type": "stream",
     "text": [
      "(813, 8)\n"
     ]
    }
   ],
   "source": [
    "# Check the shape of the dataset\n",
    "print(crop_df.shape)"
   ]
  },
  {
   "cell_type": "code",
   "execution_count": 4,
   "id": "58986c8c",
   "metadata": {},
   "outputs": [
    {
     "data": {
      "text/html": [
       "<div>\n",
       "<style scoped>\n",
       "    .dataframe tbody tr th:only-of-type {\n",
       "        vertical-align: middle;\n",
       "    }\n",
       "\n",
       "    .dataframe tbody tr th {\n",
       "        vertical-align: top;\n",
       "    }\n",
       "\n",
       "    .dataframe thead th {\n",
       "        text-align: right;\n",
       "    }\n",
       "</style>\n",
       "<table border=\"1\" class=\"dataframe\">\n",
       "  <thead>\n",
       "    <tr style=\"text-align: right;\">\n",
       "      <th></th>\n",
       "      <th>N</th>\n",
       "      <th>P</th>\n",
       "      <th>K</th>\n",
       "      <th>temperature</th>\n",
       "      <th>humidity</th>\n",
       "      <th>ph</th>\n",
       "      <th>rainfall</th>\n",
       "      <th>label</th>\n",
       "    </tr>\n",
       "  </thead>\n",
       "  <tbody>\n",
       "    <tr>\n",
       "      <th>0</th>\n",
       "      <td>90</td>\n",
       "      <td>42</td>\n",
       "      <td>43</td>\n",
       "      <td>20.879744</td>\n",
       "      <td>82.002744</td>\n",
       "      <td>6.502985</td>\n",
       "      <td>202.935536</td>\n",
       "      <td>rice</td>\n",
       "    </tr>\n",
       "    <tr>\n",
       "      <th>1</th>\n",
       "      <td>85</td>\n",
       "      <td>58</td>\n",
       "      <td>41</td>\n",
       "      <td>21.770462</td>\n",
       "      <td>80.319644</td>\n",
       "      <td>7.038096</td>\n",
       "      <td>226.655537</td>\n",
       "      <td>rice</td>\n",
       "    </tr>\n",
       "    <tr>\n",
       "      <th>2</th>\n",
       "      <td>60</td>\n",
       "      <td>55</td>\n",
       "      <td>44</td>\n",
       "      <td>23.004459</td>\n",
       "      <td>82.320763</td>\n",
       "      <td>7.840207</td>\n",
       "      <td>263.964248</td>\n",
       "      <td>rice</td>\n",
       "    </tr>\n",
       "    <tr>\n",
       "      <th>3</th>\n",
       "      <td>74</td>\n",
       "      <td>35</td>\n",
       "      <td>40</td>\n",
       "      <td>26.491096</td>\n",
       "      <td>80.158363</td>\n",
       "      <td>6.980401</td>\n",
       "      <td>242.864034</td>\n",
       "      <td>rice</td>\n",
       "    </tr>\n",
       "    <tr>\n",
       "      <th>4</th>\n",
       "      <td>78</td>\n",
       "      <td>42</td>\n",
       "      <td>42</td>\n",
       "      <td>20.130175</td>\n",
       "      <td>81.604873</td>\n",
       "      <td>7.628473</td>\n",
       "      <td>262.717340</td>\n",
       "      <td>rice</td>\n",
       "    </tr>\n",
       "  </tbody>\n",
       "</table>\n",
       "</div>"
      ],
      "text/plain": [
       "    N   P   K  temperature   humidity        ph    rainfall label\n",
       "0  90  42  43    20.879744  82.002744  6.502985  202.935536  rice\n",
       "1  85  58  41    21.770462  80.319644  7.038096  226.655537  rice\n",
       "2  60  55  44    23.004459  82.320763  7.840207  263.964248  rice\n",
       "3  74  35  40    26.491096  80.158363  6.980401  242.864034  rice\n",
       "4  78  42  42    20.130175  81.604873  7.628473  262.717340  rice"
      ]
     },
     "execution_count": 4,
     "metadata": {},
     "output_type": "execute_result"
    }
   ],
   "source": [
    "# View Dataset\n",
    "crop_df.head()"
   ]
  },
  {
   "cell_type": "code",
   "execution_count": 5,
   "id": "a8dfd4e3",
   "metadata": {},
   "outputs": [
    {
     "data": {
      "text/plain": [
       "N                int64\n",
       "P                int64\n",
       "K                int64\n",
       "temperature    float64\n",
       "humidity       float64\n",
       "ph             float64\n",
       "rainfall       float64\n",
       "label           object\n",
       "dtype: object"
      ]
     },
     "execution_count": 5,
     "metadata": {},
     "output_type": "execute_result"
    }
   ],
   "source": [
    "# Check the data type of each column\n",
    "crop_df.dtypes"
   ]
  },
  {
   "cell_type": "code",
   "execution_count": 6,
   "id": "f71088d9",
   "metadata": {},
   "outputs": [
    {
     "name": "stdout",
     "output_type": "stream",
     "text": [
      "N              0\n",
      "P              0\n",
      "K              0\n",
      "temperature    0\n",
      "humidity       0\n",
      "ph             0\n",
      "rainfall       0\n",
      "label          0\n",
      "dtype: int64\n"
     ]
    }
   ],
   "source": [
    "# Checking for missing values\n",
    "print(crop_df.isnull().sum())"
   ]
  },
  {
   "cell_type": "code",
   "execution_count": 7,
   "id": "0b42c8bc",
   "metadata": {},
   "outputs": [
    {
     "data": {
      "text/html": [
       "<div>\n",
       "<style scoped>\n",
       "    .dataframe tbody tr th:only-of-type {\n",
       "        vertical-align: middle;\n",
       "    }\n",
       "\n",
       "    .dataframe tbody tr th {\n",
       "        vertical-align: top;\n",
       "    }\n",
       "\n",
       "    .dataframe thead th {\n",
       "        text-align: right;\n",
       "    }\n",
       "</style>\n",
       "<table border=\"1\" class=\"dataframe\">\n",
       "  <thead>\n",
       "    <tr style=\"text-align: right;\">\n",
       "      <th></th>\n",
       "      <th>N</th>\n",
       "      <th>P</th>\n",
       "      <th>K</th>\n",
       "      <th>temperature</th>\n",
       "      <th>humidity</th>\n",
       "      <th>ph</th>\n",
       "      <th>rainfall</th>\n",
       "    </tr>\n",
       "  </thead>\n",
       "  <tbody>\n",
       "    <tr>\n",
       "      <th>count</th>\n",
       "      <td>813.000000</td>\n",
       "      <td>813.000000</td>\n",
       "      <td>813.000000</td>\n",
       "      <td>813.000000</td>\n",
       "      <td>813.000000</td>\n",
       "      <td>813.000000</td>\n",
       "      <td>813.000000</td>\n",
       "    </tr>\n",
       "    <tr>\n",
       "      <th>mean</th>\n",
       "      <td>42.525215</td>\n",
       "      <td>77.638376</td>\n",
       "      <td>77.290283</td>\n",
       "      <td>22.588083</td>\n",
       "      <td>56.966143</td>\n",
       "      <td>6.308703</td>\n",
       "      <td>111.584416</td>\n",
       "    </tr>\n",
       "    <tr>\n",
       "      <th>std</th>\n",
       "      <td>28.358818</td>\n",
       "      <td>33.829726</td>\n",
       "      <td>73.142225</td>\n",
       "      <td>5.047262</td>\n",
       "      <td>28.786141</td>\n",
       "      <td>0.836535</td>\n",
       "      <td>59.421869</td>\n",
       "    </tr>\n",
       "    <tr>\n",
       "      <th>min</th>\n",
       "      <td>0.000000</td>\n",
       "      <td>35.000000</td>\n",
       "      <td>15.000000</td>\n",
       "      <td>8.825675</td>\n",
       "      <td>14.258040</td>\n",
       "      <td>4.548202</td>\n",
       "      <td>5.314507</td>\n",
       "    </tr>\n",
       "    <tr>\n",
       "      <th>25%</th>\n",
       "      <td>22.000000</td>\n",
       "      <td>55.000000</td>\n",
       "      <td>21.000000</td>\n",
       "      <td>19.331626</td>\n",
       "      <td>22.331959</td>\n",
       "      <td>5.732454</td>\n",
       "      <td>73.092670</td>\n",
       "    </tr>\n",
       "    <tr>\n",
       "      <th>50%</th>\n",
       "      <td>35.000000</td>\n",
       "      <td>66.000000</td>\n",
       "      <td>39.000000</td>\n",
       "      <td>22.055923</td>\n",
       "      <td>65.345839</td>\n",
       "      <td>6.112306</td>\n",
       "      <td>96.658889</td>\n",
       "    </tr>\n",
       "    <tr>\n",
       "      <th>75%</th>\n",
       "      <td>67.000000</td>\n",
       "      <td>80.000000</td>\n",
       "      <td>85.000000</td>\n",
       "      <td>24.714175</td>\n",
       "      <td>82.456872</td>\n",
       "      <td>6.655918</td>\n",
       "      <td>125.097269</td>\n",
       "    </tr>\n",
       "    <tr>\n",
       "      <th>max</th>\n",
       "      <td>100.000000</td>\n",
       "      <td>145.000000</td>\n",
       "      <td>205.000000</td>\n",
       "      <td>41.948657</td>\n",
       "      <td>94.920481</td>\n",
       "      <td>8.967058</td>\n",
       "      <td>298.560117</td>\n",
       "    </tr>\n",
       "  </tbody>\n",
       "</table>\n",
       "</div>"
      ],
      "text/plain": [
       "                N           P           K  temperature    humidity  \\\n",
       "count  813.000000  813.000000  813.000000   813.000000  813.000000   \n",
       "mean    42.525215   77.638376   77.290283    22.588083   56.966143   \n",
       "std     28.358818   33.829726   73.142225     5.047262   28.786141   \n",
       "min      0.000000   35.000000   15.000000     8.825675   14.258040   \n",
       "25%     22.000000   55.000000   21.000000    19.331626   22.331959   \n",
       "50%     35.000000   66.000000   39.000000    22.055923   65.345839   \n",
       "75%     67.000000   80.000000   85.000000    24.714175   82.456872   \n",
       "max    100.000000  145.000000  205.000000    41.948657   94.920481   \n",
       "\n",
       "               ph    rainfall  \n",
       "count  813.000000  813.000000  \n",
       "mean     6.308703  111.584416  \n",
       "std      0.836535   59.421869  \n",
       "min      4.548202    5.314507  \n",
       "25%      5.732454   73.092670  \n",
       "50%      6.112306   96.658889  \n",
       "75%      6.655918  125.097269  \n",
       "max      8.967058  298.560117  "
      ]
     },
     "execution_count": 7,
     "metadata": {},
     "output_type": "execute_result"
    }
   ],
   "source": [
    "# Key Statistics\n",
    "crop_df.describe()"
   ]
  },
  {
   "cell_type": "code",
   "execution_count": 8,
   "id": "8bfcb0f4",
   "metadata": {},
   "outputs": [
    {
     "name": "stderr",
     "output_type": "stream",
     "text": [
      "Done! Use 'show' commands to display/save.   |█████████████████████████████████████████| [100%]   00:01 -> (00:00 left)\n"
     ]
    }
   ],
   "source": [
    "# Data Visualization using Sweetviz\n",
    "crop_report = sv.analyze(crop_df)"
   ]
  },
  {
   "cell_type": "code",
   "execution_count": 9,
   "id": "7337a67f",
   "metadata": {},
   "outputs": [
    {
     "name": "stdout",
     "output_type": "stream",
     "text": [
      "Report SWEETVIZ_REPORT.html was generated! NOTEBOOK/COLAB USERS: the web browser MAY not pop up, regardless, the report IS saved in your notebook/colab files.\n"
     ]
    }
   ],
   "source": [
    "# Creating HTML file\n",
    "crop_report.show_html()"
   ]
  },
  {
   "cell_type": "code",
   "execution_count": 10,
   "id": "d0e39f97",
   "metadata": {},
   "outputs": [
    {
     "data": {
      "text/plain": [
       "array(['rice', 'maize', 'Soyabeans', 'beans', 'peas', 'grapes', 'apple'],\n",
       "      dtype=object)"
      ]
     },
     "execution_count": 10,
     "metadata": {},
     "output_type": "execute_result"
    }
   ],
   "source": [
    "pd.unique(crop_df['label'])"
   ]
  },
  {
   "cell_type": "code",
   "execution_count": 11,
   "id": "a511dd44",
   "metadata": {},
   "outputs": [
    {
     "data": {
      "image/png": "[encoded data removed]",
      "text/plain": [
       "<Figure size 640x480 with 1 Axes>"
      ]
     },
     "metadata": {},
     "output_type": "display_data"
    }
   ],
   "source": [
    "# Class Balance Check\n",
    "class_counts = crop_df['label'].value_counts()\n",
    "class_counts.plot(kind='bar')\n",
    "plt.title('Class Balance')\n",
    "plt.xlabel('Class Label')\n",
    "plt.ylabel('Count')\n",
    "plt.show()"
   ]
  },
  {
   "cell_type": "code",
   "execution_count": 12,
   "id": "fc096a6b",
   "metadata": {},
   "outputs": [],
   "source": [
    "# Extrating features adn assinging to X and Assigning labels tob y variables\n",
    "\n",
    "X = crop_df.drop('label', axis=1)\n",
    "y = crop_df['label']"
   ]
  },
  {
   "cell_type": "code",
   "execution_count": 13,
   "id": "25e4ae13",
   "metadata": {},
   "outputs": [
    {
     "name": "stdout",
     "output_type": "stream",
     "text": [
      "      N   P   K  temperature   humidity        ph    rainfall\n",
      "0    90  42  43    20.879744  82.002744  6.502985  202.935536\n",
      "1    85  58  41    21.770462  80.319644  7.038096  226.655537\n",
      "2    60  55  44    23.004459  82.320763  7.840207  263.964248\n",
      "3    74  35  40    26.491096  80.158363  6.980401  242.864034\n",
      "4    78  42  42    20.130175  81.604873  7.628473  262.717340\n",
      "..   ..  ..  ..          ...        ...       ...         ...\n",
      "808   3  67  24    17.000676  19.907905  5.520880  103.292641\n",
      "809  35  69  23    16.787915  24.968818  5.578410   75.453280\n",
      "810   3  77  25    24.849062  22.894646  5.608165   62.212922\n",
      "811  23  62  19    16.517835  20.455560  5.609435   98.777942\n",
      "812  22  71  17    18.153002  19.386021  5.509295  107.690796\n",
      "\n",
      "[813 rows x 7 columns]\n"
     ]
    }
   ],
   "source": [
    "# View X variable\n",
    "print(X)"
   ]
  },
  {
   "cell_type": "code",
   "execution_count": 14,
   "id": "6962ce87",
   "metadata": {},
   "outputs": [
    {
     "name": "stdout",
     "output_type": "stream",
     "text": [
      "0       rice\n",
      "1       rice\n",
      "2       rice\n",
      "3       rice\n",
      "4       rice\n",
      "       ...  \n",
      "808    beans\n",
      "809    beans\n",
      "810    beans\n",
      "811    beans\n",
      "812    beans\n",
      "Name: label, Length: 813, dtype: object\n"
     ]
    }
   ],
   "source": [
    "# View y variable\n",
    "print(y)"
   ]
  },
  {
   "cell_type": "code",
   "execution_count": 15,
   "id": "3ce8f5e3",
   "metadata": {},
   "outputs": [],
   "source": [
    "#Create Train and Test datasets\n",
    "from sklearn.model_selection import train_test_split  \n",
    "X_train, X_test, y_train, y_test = train_test_split(X, y, stratify=y, test_size = 0.20, random_state= 100)"
   ]
  },
  {
   "cell_type": "code",
   "execution_count": 16,
   "id": "664ddf51",
   "metadata": {},
   "outputs": [],
   "source": [
    "#Script for Decision Tree\n",
    "from sklearn.tree import DecisionTreeClassifier  \n",
    "\n",
    "for name, tree in [('Decision Tree Classifier', DecisionTreeClassifier(random_state=100))]: \n",
    "    tree.fit(X_train,y_train)\n",
    "    predict = tree.predict(X_test)"
   ]
  },
  {
   "cell_type": "code",
   "execution_count": 17,
   "id": "bb342ab7",
   "metadata": {},
   "outputs": [
    {
     "name": "stdout",
     "output_type": "stream",
     "text": [
      "\n",
      "Estimator: Decision Tree Classifier\n",
      "[[26  0  0  0  0  0  0]\n",
      " [ 0 20  0  0  0  0  0]\n",
      " [ 0  0 25  0  0  0  0]\n",
      " [ 0  0  0 20  0  0  0]\n",
      " [ 0  0  0  0 24  0  0]\n",
      " [ 0  0  0  0  0 20  0]\n",
      " [ 0  0  0  0  0  0 28]]\n",
      "              precision    recall  f1-score   support\n",
      "\n",
      "   Soyabeans       1.00      1.00      1.00        26\n",
      "       apple       1.00      1.00      1.00        20\n",
      "       beans       1.00      1.00      1.00        25\n",
      "      grapes       1.00      1.00      1.00        20\n",
      "       maize       1.00      1.00      1.00        24\n",
      "        peas       1.00      1.00      1.00        20\n",
      "        rice       1.00      1.00      1.00        28\n",
      "\n",
      "    accuracy                           1.00       163\n",
      "   macro avg       1.00      1.00      1.00       163\n",
      "weighted avg       1.00      1.00      1.00       163\n",
      "\n"
     ]
    }
   ],
   "source": [
    "# Evaluation Report and Matrix\n",
    "from sklearn.metrics import classification_report, confusion_matrix  \n",
    "print('\\nEstimator: {}'.format(name)) \n",
    "print(confusion_matrix(y_test,predict))  \n",
    "print(classification_report(y_test,predict)) "
   ]
  }
 ],
 "metadata": {
  "kernelspec": {
   "display_name": "Python 3 (ipykernel)",
   "language": "python",
   "name": "python3"
  },
  "language_info": {
   "codemirror_mode": {
    "name": "ipython",
    "version": 3
   },
   "file_extension": ".py",
   "mimetype": "text/x-python",
   "name": "python",
   "nbconvert_exporter": "python",
   "pygments_lexer": "ipython3",
   "version": "3.9.13"
  }
 },
 "nbformat": 4,
 "nbformat_minor": 5
}
